{
 "cells": [
  {
   "cell_type": "markdown",
   "metadata": {},
   "source": [
    "# Geographic Calculations\n",
    "## Enviromnemt"
   ]
  },
  {
   "cell_type": "code",
   "execution_count": 1,
   "metadata": {},
   "outputs": [],
   "source": [
    "# General libraries\n",
    "import pandas as pd"
   ]
  },
  {
   "cell_type": "code",
   "execution_count": 20,
   "metadata": {},
   "outputs": [],
   "source": [
    "#Libraries for geographic calculations\n",
    "from geopy.geocoders import Nominatim # Importing the geopy library and Nominatim class\n",
    "from geopy.exc import GeocoderTimedOut\n",
    "from geopy.distance import Distance\n",
    "from geopy.distance import geodesic"
   ]
  },
  {
   "cell_type": "markdown",
   "metadata": {},
   "source": [
    "## Functions related to Input"
   ]
  },
  {
   "cell_type": "code",
   "execution_count": 8,
   "metadata": {},
   "outputs": [],
   "source": [
    "# Internal Input: Function to read the internal file and extract data\n",
    "def read_excel_to_df(file_path):\n",
    "    try:\n",
    "        # Read the Excel file into a DataFrame\n",
    "        df = pd.read_excel(file_path, engine='openpyxl')\n",
    "        \n",
    "        # Check if the DataFrame has the correct number of columns and they are in the expected order\n",
    "        expected_columns = ['code', 'date', 'event', 'city', 'venue', 'accom.Code', 'flight.Code']\n",
    "        if len(df.columns) != len(expected_columns) or not all(df.columns == expected_columns):\n",
    "            # If columns do not match, raise an error\n",
    "            raise ValueError(\"Error: Unexpected input form. Please insert a file containing \" +\n",
    "                             \"\\\"code\\\", \\\"date\\\", \\\"event\\\", \\\"city\\\", \\\"venue\\\", \\\"accommodation code\\\" and \\\"flight code\\\" in this order.\")\n",
    "\n",
    "        # Convert the 'date' column to datetime dtype\n",
    "        df['date'] = pd.to_datetime(df['date'])\n",
    "\n",
    "        # Return the DataFrame\n",
    "        return df\n",
    "    \n",
    "    except ValueError as ve:\n",
    "        print(ve)\n",
    "        return None\n",
    "    except Exception as e:\n",
    "        print(f\"An error occurred: {e}\")\n",
    "        return None"
   ]
  },
  {
   "cell_type": "markdown",
   "metadata": {},
   "source": [
    "## Functions related to Data Cleaning"
   ]
  },
  {
   "cell_type": "code",
   "execution_count": 84,
   "metadata": {},
   "outputs": [],
   "source": [
    "# Function that takes a DataFrame, removes rows that contain \"Nearby - \" in the Location name, and returns the cleaned DataFrame\n",
    "def remove_nearby(df):\n",
    "    # Remove rows that contain \"Nearby - \" in the Location name\n",
    "    df = df[~df['Location'].str.contains(\"Nearby - \", na=False)]\n",
    "    return df"
   ]
  },
  {
   "cell_type": "markdown",
   "metadata": {},
   "source": [
    "## Functions related to Geographic Calculations"
   ]
  },
  {
   "cell_type": "code",
   "execution_count": 87,
   "metadata": {},
   "outputs": [],
   "source": [
    "# Function to obtain the coordinates of a list of places\n",
    "def get_coordinates(places):\n",
    "    geolocator = Nominatim(user_agent=\"Geopy Library\")\n",
    "    coordinates = []  # Use a list to store coordinate data\n",
    "    \n",
    "    for place in places:\n",
    "        try:\n",
    "            location = geolocator.geocode(place)\n",
    "            if location:\n",
    "                # Append the place and its coordinates as a list\n",
    "                coordinates.append([place, location.latitude, location.longitude])\n",
    "            else:\n",
    "                # Append the place and a message indicating location was not found\n",
    "                coordinates.append([place, \"Location not found\", \"Location not found\"])\n",
    "        except Exception as e:\n",
    "            # Append the place and the error occurred\n",
    "            coordinates.append([place, f\"Error occurred: {str(e)}\", f\"Error occurred: {str(e)}\"])\n",
    "    \n",
    "    return coordinates"
   ]
  },
  {
   "cell_type": "code",
   "execution_count": 108,
   "metadata": {},
   "outputs": [],
   "source": [
    "# Not used - not sure where to save the results - TBD\n",
    "# Function to calculate the distance between a base location and a list of other places\n",
    "def calculate_distances(base_coords, other_places, initial_list):\n",
    "    results = []\n",
    "    # Extract the base coordinates\n",
    "    base_latitude = base_coords[0][1]\n",
    "    base_longitude = base_coords[0][2]\n",
    "\n",
    "    # Iterate through the list of other places\n",
    "    for i in range(len(other_places)):\n",
    "        # Calculate distance between base coordinates and other places\n",
    "        distance = geodesic((base_latitude, base_longitude), (other_places[i][1], other_places[i][2])).kilometers\n",
    "        results.append(distance)\n",
    "        # Insert the distance into the initial list as the last element\n",
    "        initial_list[i]['distance'].append(distance)\n"
   ]
  },
  {
   "cell_type": "markdown",
   "metadata": {},
   "source": [
    "## Geographic Calculations"
   ]
  },
  {
   "cell_type": "code",
   "execution_count": 119,
   "metadata": {},
   "outputs": [],
   "source": [
    "# For testing purposes\n",
    "# Load accommodation data from excel file\n",
    "file_path_accom = '/Users/danielavandasova/Library/CloudStorage/OneDrive-Personal/Documents/3_IES/8-Semestr/Data Analysis in Python/Python_Project/locations2.xlsx'\n",
    "accommodation_data = pd.read_excel(file_path_accom)\n",
    "\n",
    "# Load internal database from excel file\n",
    "file_path_internal = '/Users/danielavandasova/Library/CloudStorage/OneDrive-Personal/Documents/3_IES/8-Semestr/Data Analysis in Python/Python_Project/internal-data.xlsx'\n",
    "internal_data = read_excel_to_df(file_path_internal)"
   ]
  },
  {
   "cell_type": "code",
   "execution_count": 120,
   "metadata": {},
   "outputs": [],
   "source": [
    "# Clean accommodation data: Remove rows that contain \"Nearby - \" in the Location name\n",
    "accommodation_data = remove_nearby(accommodation_data)"
   ]
  },
  {
   "cell_type": "code",
   "execution_count": 121,
   "metadata": {},
   "outputs": [],
   "source": [
    "places = get_coordinates(accommodation_data['Location'])"
   ]
  },
  {
   "cell_type": "code",
   "execution_count": 122,
   "metadata": {},
   "outputs": [],
   "source": [
    "# Working wersion - city and venue pbtained differently in the main code\n",
    "base_coords = get_coordinates([internal_data['venue'][16]])"
   ]
  },
  {
   "cell_type": "code",
   "execution_count": 123,
   "metadata": {},
   "outputs": [],
   "source": [
    "# Extract the base coordinates\n",
    "base_latitude = base_coords[0][1]\n",
    "base_longitude = base_coords[0][2]"
   ]
  },
  {
   "cell_type": "code",
   "execution_count": 124,
   "metadata": {},
   "outputs": [
    {
     "name": "stdout",
     "output_type": "stream",
     "text": [
      "516.6058863495922 km\n",
      "18.731899773539357 km\n",
      "18.731899773539357 km\n",
      "13.889254312530568 km\n",
      "17.166205019780246 km\n",
      "14.736198195954682 km\n",
      "13.889254312530568 km\n",
      "18.731899773539357 km\n",
      "18.731899773539357 km\n",
      "13.889254312530568 km\n",
      "516.6058863495922 km\n",
      "18.731899773539357 km\n",
      "18.731899773539357 km\n",
      "13.889254312530568 km\n",
      "16.251044923671753 km\n",
      "13.889254312530568 km\n",
      "13.889254312530568 km\n",
      "18.731899773539357 km\n",
      "17.166205019780246 km\n",
      "13.889254312530568 km\n",
      "13.889254312530568 km\n",
      "13.889254312530568 km\n",
      "18.731899773539357 km\n",
      "116.99614856788858 km\n",
      "17.34569683250562 km\n",
      "13.889254312530568 km\n",
      "18.087773072883596 km\n",
      "516.6058863495922 km\n",
      "516.6058863495922 km\n",
      "18.731899773539357 km\n",
      "13.889254312530568 km\n",
      "17.166205019780246 km\n",
      "13.889254312530568 km\n",
      "14.736198195954682 km\n",
      "13.889254312530568 km\n",
      "18.087773072883596 km\n",
      "18.731899773539357 km\n",
      "18.731899773539357 km\n",
      "18.087773072883596 km\n",
      "13.889254312530568 km\n",
      "18.731899773539357 km\n",
      "13.889254312530568 km\n",
      "18.731899773539357 km\n",
      "18.731899773539357 km\n",
      "13.889254312530568 km\n",
      "13.889254312530568 km\n",
      "13.889254312530568 km\n",
      "116.99614856788858 km\n",
      "18.731899773539357 km\n",
      "116.99614856788858 km\n",
      "13.889254312530568 km\n",
      "17.166205019780246 km\n",
      "11.535479012621051 km\n",
      "116.99614856788858 km\n",
      "18.731899773539357 km\n",
      "13.889254312530568 km\n",
      "516.6058863495922 km\n",
      "516.6058863495922 km\n",
      "13.889254312530568 km\n",
      "17.166205019780246 km\n",
      "14.736198195954682 km\n",
      "13.889254312530568 km\n",
      "13.889254312530568 km\n",
      "14.736198195954682 km\n",
      "18.731899773539357 km\n",
      "18.087773072883596 km\n",
      "13.889254312530568 km\n",
      "18.731899773539357 km\n",
      "13.889254312530568 km\n",
      "18.731899773539357 km\n",
      "18.731899773539357 km\n",
      "17.34569683250562 km\n",
      "18.731899773539357 km\n",
      "13.889254312530568 km\n",
      "18.731899773539357 km\n",
      "116.99614856788858 km\n",
      "17.166205019780246 km\n",
      "116.99614856788858 km\n",
      "13.889254312530568 km\n",
      "11.535479012621051 km\n",
      "13.889254312530568 km\n"
     ]
    }
   ],
   "source": [
    "\n",
    "for i in range(len(places)):\n",
    "    #Calculate distance between base coordinates and other places\n",
    "    distance = geodesic((base_latitude, base_longitude), (places[i][1], places[i][2]))\n",
    "    print(distance)\n",
    "    "
   ]
  }
 ],
 "metadata": {
  "kernelspec": {
   "display_name": "base",
   "language": "python",
   "name": "python3"
  },
  "language_info": {
   "codemirror_mode": {
    "name": "ipython",
    "version": 3
   },
   "file_extension": ".py",
   "mimetype": "text/x-python",
   "name": "python",
   "nbconvert_exporter": "python",
   "pygments_lexer": "ipython3",
   "version": "3.11.5"
  }
 },
 "nbformat": 4,
 "nbformat_minor": 2
}
