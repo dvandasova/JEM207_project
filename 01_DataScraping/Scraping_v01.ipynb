{
 "cells": [
  {
   "cell_type": "markdown",
   "metadata": {},
   "source": [
    "## Environment"
   ]
  },
  {
   "cell_type": "code",
   "execution_count": 3,
   "metadata": {},
   "outputs": [],
   "source": [
    "from time import sleep\n",
    "import pandas as pd\n",
    "from selenium import webdriver\n",
    "from bs4 import BeautifulSoup\n",
    "import os"
   ]
  },
  {
   "cell_type": "code",
   "execution_count": 20,
   "metadata": {},
   "outputs": [],
   "source": [
    "driver = webdriver.Chrome()\n",
    "url = \"https://www.kayak.ie/flights/PRG-BHX/2024-05-18/2024-05-25?sort=bestflight_a\"\n",
    "driver.get(url)\n",
    "sleep(18)\n",
    "#popwindow = '//*[@id=\"portal-container\"]/div/div[2]/div/div/div[1]/div/span[2]/button/div/div/svg/path'\n",
    "popwindow = driver.find_element(\"xpath\", '//*[@id=\"portal-container\"]/div/div[2]/div/div/div[1]/div/span[2]/button/div/div')\n",
    "popwindow.click()"
   ]
  },
  {
   "cell_type": "code",
   "execution_count": 23,
   "metadata": {},
   "outputs": [
    {
     "name": "stdout",
     "output_type": "stream",
     "text": [
      "[<selenium.webdriver.remote.webelement.WebElement (session=\"97e7a2ea5118ababa267e2bcf191fda6\", element=\"f.FFEC90594F80890E2BC6469F0A3D1E32.d.C50AAA8D9D384B3B24D1059EE7D3D179.e.1657\")>, <selenium.webdriver.remote.webelement.WebElement (session=\"97e7a2ea5118ababa267e2bcf191fda6\", element=\"f.FFEC90594F80890E2BC6469F0A3D1E32.d.C50AAA8D9D384B3B24D1059EE7D3D179.e.1659\")>, <selenium.webdriver.remote.webelement.WebElement (session=\"97e7a2ea5118ababa267e2bcf191fda6\", element=\"f.FFEC90594F80890E2BC6469F0A3D1E32.d.C50AAA8D9D384B3B24D1059EE7D3D179.e.1661\")>, <selenium.webdriver.remote.webelement.WebElement (session=\"97e7a2ea5118ababa267e2bcf191fda6\", element=\"f.FFEC90594F80890E2BC6469F0A3D1E32.d.C50AAA8D9D384B3B24D1059EE7D3D179.e.1663\")>, <selenium.webdriver.remote.webelement.WebElement (session=\"97e7a2ea5118ababa267e2bcf191fda6\", element=\"f.FFEC90594F80890E2BC6469F0A3D1E32.d.C50AAA8D9D384B3B24D1059EE7D3D179.e.1665\")>, <selenium.webdriver.remote.webelement.WebElement (session=\"97e7a2ea5118ababa267e2bcf191fda6\", element=\"f.FFEC90594F80890E2BC6469F0A3D1E32.d.C50AAA8D9D384B3B24D1059EE7D3D179.e.1667\")>, <selenium.webdriver.remote.webelement.WebElement (session=\"97e7a2ea5118ababa267e2bcf191fda6\", element=\"f.FFEC90594F80890E2BC6469F0A3D1E32.d.C50AAA8D9D384B3B24D1059EE7D3D179.e.1669\")>, <selenium.webdriver.remote.webelement.WebElement (session=\"97e7a2ea5118ababa267e2bcf191fda6\", element=\"f.FFEC90594F80890E2BC6469F0A3D1E32.d.C50AAA8D9D384B3B24D1059EE7D3D179.e.1671\")>, <selenium.webdriver.remote.webelement.WebElement (session=\"97e7a2ea5118ababa267e2bcf191fda6\", element=\"f.FFEC90594F80890E2BC6469F0A3D1E32.d.C50AAA8D9D384B3B24D1059EE7D3D179.e.1673\")>, <selenium.webdriver.remote.webelement.WebElement (session=\"97e7a2ea5118ababa267e2bcf191fda6\", element=\"f.FFEC90594F80890E2BC6469F0A3D1E32.d.C50AAA8D9D384B3B24D1059EE7D3D179.e.1675\")>, <selenium.webdriver.remote.webelement.WebElement (session=\"97e7a2ea5118ababa267e2bcf191fda6\", element=\"f.FFEC90594F80890E2BC6469F0A3D1E32.d.C50AAA8D9D384B3B24D1059EE7D3D179.e.1677\")>, <selenium.webdriver.remote.webelement.WebElement (session=\"97e7a2ea5118ababa267e2bcf191fda6\", element=\"f.FFEC90594F80890E2BC6469F0A3D1E32.d.C50AAA8D9D384B3B24D1059EE7D3D179.e.1679\")>, <selenium.webdriver.remote.webelement.WebElement (session=\"97e7a2ea5118ababa267e2bcf191fda6\", element=\"f.FFEC90594F80890E2BC6469F0A3D1E32.d.C50AAA8D9D384B3B24D1059EE7D3D179.e.1681\")>, <selenium.webdriver.remote.webelement.WebElement (session=\"97e7a2ea5118ababa267e2bcf191fda6\", element=\"f.FFEC90594F80890E2BC6469F0A3D1E32.d.C50AAA8D9D384B3B24D1059EE7D3D179.e.1683\")>, <selenium.webdriver.remote.webelement.WebElement (session=\"97e7a2ea5118ababa267e2bcf191fda6\", element=\"f.FFEC90594F80890E2BC6469F0A3D1E32.d.C50AAA8D9D384B3B24D1059EE7D3D179.e.1685\")>]\n"
     ]
    }
   ],
   "source": [
    "flight_rows = driver.find_elements(\"xpath\", '//div[@class=\"nrc6-inner\"]')\n",
    "print(flight_rows)"
   ]
  },
  {
   "cell_type": "markdown",
   "metadata": {},
   "source": [
    "## Scraping"
   ]
  },
  {
   "cell_type": "code",
   "execution_count": 28,
   "metadata": {},
   "outputs": [],
   "source": [
    "# Variables of interest\n",
    "lst_prices = []\n",
    "lst_airlines = []"
   ]
  },
  {
   "cell_type": "code",
   "execution_count": 35,
   "metadata": {},
   "outputs": [],
   "source": [
    "# Scraping prices\n",
    "for WebElement in flight_rows:\n",
    "    elementHTML = WebElement.get_attribute('outerHTML')\n",
    "    elementSoup = BeautifulSoup(elementHTML, 'html.parser')\n",
    "\n",
    "    # Price\n",
    "    price = elementSoup.find(\"div\", {\"class\":\"f8F1-price-text\"})\n",
    "    lst_prices.append(price.text)\n",
    "\n",
    "    # Airline\n",
    "    airline = elementSoup.find(\"div\", {\"class\":\"J0g6-operator-text\"})\n",
    "    lst_airlines.append(airline.text)"
   ]
  },
  {
   "cell_type": "code",
   "execution_count": 36,
   "metadata": {},
   "outputs": [
    {
     "name": "stdout",
     "output_type": "stream",
     "text": [
      "['€177', '€277', '€294', '€340', '€277', '€391', '€409', '€346', '€380', '€413', '€416', '€456', '€460', '€478', '€431', '€177', '€277', '€294', '€340', '€277', '€391', '€409', '€346', '€380', '€413', '€416', '€456', '€460', '€478', '€431', '€177', '€277', '€294', '€340', '€277', '€391', '€409', '€346', '€380', '€413', '€416', '€456', '€460', '€478', '€431', '€177', '€277', '€294', '€340', '€277', '€391', '€409', '€346', '€380', '€413', '€416', '€456', '€460', '€478', '€431']\n",
      "['Multiple Airlines', 'KLM', 'KLM', 'KLM', 'KLM', 'KLM', 'KLM', 'KLM', 'Air France, KLM', 'KLM', 'KLM', 'KLM', 'KLM', 'KLM', 'KLM']\n"
     ]
    }
   ],
   "source": [
    "print(lst_prices)\n",
    "print(lst_airlines)"
   ]
  }
 ],
 "metadata": {
  "kernelspec": {
   "display_name": "base",
   "language": "python",
   "name": "python3"
  },
  "language_info": {
   "codemirror_mode": {
    "name": "ipython",
    "version": 3
   },
   "file_extension": ".py",
   "mimetype": "text/x-python",
   "name": "python",
   "nbconvert_exporter": "python",
   "pygments_lexer": "ipython3",
   "version": "3.11.5"
  }
 },
 "nbformat": 4,
 "nbformat_minor": 2
}
