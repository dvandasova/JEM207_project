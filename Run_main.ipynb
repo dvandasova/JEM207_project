{
 "cells": [
  {
   "cell_type": "code",
   "execution_count": null,
   "metadata": {},
   "outputs": [],
   "source": [
    "from app import scraping\n",
    "from app import geos\n",
    "from app import bundling\n",
    "from app import input\n",
    "import numpy as np\n",
    "import matplotlib.pyplot as plt\n",
    "import pandas as pd\n",
    "import seaborn as sns"
   ]
  },
  {
   "cell_type": "markdown",
   "metadata": {},
   "source": [
    "## Individual match scraping\n",
    "### Flight and Accommodation\n",
    "The purpose of the individual scraping is to check the latest price of the selected match (different to in bulk scraping, which takes a lot of time, this individual is much faster)\n",
    "\n",
    "Please exchange the the following filepaths for your own, leading to the text file used for selecting the match"
   ]
  },
  {
   "cell_type": "code",
   "execution_count": null,
   "metadata": {},
   "outputs": [],
   "source": [
    "# Internal Input: Read the internal file and extract data into a data frame for processing\n",
    "file_path = '/Users/danielavandasova/Library/CloudStorage/OneDrive-Personal/Documents/3_IES/8-Semestr/Data Analysis in Python/Python_Project/internal-data.xlsx'\n",
    "data_frame = read_excel_to_df(file_path)"
   ]
  },
  {
   "cell_type": "code",
   "execution_count": null,
   "metadata": {},
   "outputs": [],
   "source": [
    "# User input: Read the txt file and extract the primary code\n",
    "file_path = '/Users/danielavandasova/Library/CloudStorage/OneDrive-Personal/Documents/3_IES/8-Semestr/Data Analysis in Python/Python_Project/input.txt' #path to input file\n",
    "primary_code = read_code(file_path, data_frame)"
   ]
  },
  {
   "cell_type": "code",
   "execution_count": null,
   "metadata": {},
   "outputs": [],
   "source": [
    "# From data_frame extract the row corresponding to the primary code\n",
    "df = data_frame.loc[data_frame.iloc[:, 0] == primary_code]\n",
    "#print(row)"
   ]
  },
  {
   "cell_type": "code",
   "execution_count": null,
   "metadata": {},
   "outputs": [],
   "source": [
    "# Initialize the WebDriver (e.g., Chrome)\n",
    "driver = webdriver.Chrome()\n",
    "\n",
    "# Loop through each row in the DataFrame\n",
    "min_prices = []  # To store the minimum prices for each city and date combination\n",
    "for index, row in df.iterrows():\n",
    "    city = row['flight.Code']  # Use the column name 'flight.Code' for the city\n",
    "    departure_date = row['date'].strftime('%Y-%m-%d')  # Assuming 'date' is in a proper date format\n",
    "\n",
    "    # Calculate the return date as departure date + 2 days\n",
    "    return_date = (row['date'] + timedelta(days=2)).strftime('%Y-%m-%d')\n",
    "    \n",
    "    # Scrape the minimum price for the city and date combination\n",
    "    min_price = scrape_min_price(city, departure_date, return_date)\n",
    "    \n",
    "    # Append the minimum price to the list\n",
    "    min_prices.append(min_price)\n",
    "\n",
    "    print(min_price)\n",
    "\n",
    "# Add the minimum price as a new column in the original DataFrame\n",
    "df['Min Price'] = min_prices\n",
    "\n",
    "# Close the WebDriver\n",
    "driver.quit()\n",
    "\n",
    "# Display the updated DataFrame\n",
    "print(df)"
   ]
  },
  {
   "cell_type": "code",
   "execution_count": null,
   "metadata": {},
   "outputs": [],
   "source": [
    "# Define lists to hold the accommodation data for each row\n",
    "accommodation_standard = []\n",
    "accommodation_superior = []\n",
    "accommodation_luxurious = []\n",
    "\n",
    "driver = webdriver.Chrome()\n",
    "driver.maximize_window()\n",
    "\n",
    "# Loop through each row in the DataFrame to get location and dates\n",
    "for index, row in df.iterrows():\n",
    "    # Calculate the difference between the current date and the 'date' in the row\n",
    "    if row['date'] < (datetime.now() + timedelta(days=14)):\n",
    "        continue  # Skip this iteration if the date is less than 14 days from today\n",
    "\n",
    "    location = row['accom.Code']  # Assuming 'accom.Code' contains the location identifier\n",
    "    departure_date = row['date'].strftime('%Y-%m-%d')  # Assuming 'date' is a date column\n",
    "    return_date = (row['date'] + timedelta(days=2)).strftime('%Y-%m-%d') \n",
    "\n",
    "    city = row['city']  # Assuming 'city' contains the city name\n",
    "    \n",
    "    # Scrape accommodation data\n",
    "    accommodation_data = scrape_accommodation_data(location, departure_date, return_date)\n",
    "    accommodation_data[\"Location\"] = accommodation_data[\"Location\"] + \", \" + city\n",
    "    \n",
    "    accommodation_data = accommodation_data[~accommodation_data['Location'].str.contains(\"Nearby - \", na=False)]\n",
    "    current_venue = row[\"venue\"] \n",
    "\n",
    "    places = get_coordinates(accommodation_data['Location'])\n",
    "\n",
    "    places_df = pd.DataFrame(places, columns=[\"Place\", \"Latitude\", \"Longitude\"])\n",
    "\n",
    "    # Create a mask for valid coordinates (i.e., filter out \"Location not found\")\n",
    "    valid_mask = places_df[\"Latitude\"] != \"Location not found\"\n",
    "\n",
    "    accommodation_data = accommodation_data.reset_index(drop=True)\n",
    "\n",
    "    # Ensure valid_mask has the same index as the original accommodation_data\n",
    "    valid_mask = valid_mask & accommodation_data.index.isin(places_df.index)\n",
    "\n",
    "    # Apply the mask to filter both places_df and accommodation_data\n",
    "    places_filtered = places_df[valid_mask].reset_index(drop=True)\n",
    "    accommodation_data = accommodation_data[valid_mask].reset_index(drop=True)\n",
    "\n",
    "    geolocator = Nominatim(user_agent=\"Geopy Library\")\n",
    "    current_venue = geolocator.geocode(current_venue)\n",
    "    base_coords = (current_venue.latitude, current_venue.longitude) if current_venue else \"Location not found\"\n",
    "\n",
    "    base_latitude = base_coords[0]\n",
    "    base_longitude = base_coords[1] \n",
    "\n",
    "\n",
    "    distances = []\n",
    "    for i in range(len(places_filtered)):\n",
    "        # Access latitude and longitude using pandas iloc to reference rows\n",
    "        latitude = places_filtered.iloc[i][\"Latitude\"]\n",
    "        longitude = places_filtered.iloc[i][\"Longitude\"]\n",
    "        \n",
    "        # Calculate distance between base coordinates and other places\n",
    "        dist = geodesic((base_latitude, base_longitude), (latitude, longitude)).kilometers\n",
    "        distances.append(dist)\n",
    "\n",
    "    # Add distances to accommodation_data\n",
    "    accommodation_data[\"Distance\"] = distances\n",
    "\n",
    "    # Select the Standard, Superior, and Luxurious bundles\n",
    "    Standard_bundle, Superior_bundle, Luxurious_bundle = select_accommodation_bundles(accommodation_data)\n",
    "\n",
    "    # Append the accommodation names and prices to the corresponding lists\n",
    "    accommodation_standard.append({\n",
    "        'Name': Standard_bundle['Name'],\n",
    "        'Price': Standard_bundle['Price'],\n",
    "        'Rating': Standard_bundle['Rating']\n",
    "    })\n",
    "    accommodation_superior.append({\n",
    "        'Name': Superior_bundle['Name'],\n",
    "        'Price': Superior_bundle['Price'],\n",
    "        'Rating': Superior_bundle['Rating']\n",
    "    })\n",
    "    accommodation_luxurious.append({\n",
    "        'Name': Luxurious_bundle['Name'],\n",
    "        'Price': Luxurious_bundle['Price'],\n",
    "        'Rating': Luxurious_bundle['Rating']\n",
    "    })\n",
    "\n",
    "# Add the accommodation bundles to the original DataFrame\n",
    "df['Standard Accommodation'] = [x['Name'] for x in accommodation_standard]\n",
    "df['Superior Accommodation'] = [x['Name'] for x in accommodation_superior]\n",
    "df['Luxurious Accommodation'] = [x['Name'] for x in accommodation_luxurious]\n",
    "\n",
    "df['Standard Price'] = [x['Price'] for x in accommodation_standard]\n",
    "df['Superior Price'] = [x['Price'] for x in accommodation_superior]\n",
    "df['Luxurious Price'] = [x['Price'] for x in accommodation_luxurious]\n",
    "\n",
    "df['Standard Rating'] = [x['Rating'] for x in accommodation_standard]\n",
    "df['Superior Rating'] = [x['Rating'] for x in accommodation_superior]\n",
    "df['Luxurious Rating'] = [x['Rating'] for x in accommodation_luxurious]\n",
    "\n",
    "# Save the updated DataFrame with accommodation data\n",
    "\n",
    "# Close the WebDriver\n",
    "driver.quit()\n"
   ]
  },
  {
   "cell_type": "code",
   "execution_count": null,
   "metadata": {},
   "outputs": [],
   "source": [
    "print(df)"
   ]
  },
  {
   "cell_type": "markdown",
   "metadata": {},
   "source": [
    "## Visuals\n",
    "### Flight and Accommodation Pricing Trends \n",
    "The purpose of this graph is to show how much in advance is it best to book a stay to see a match. The graph contains price averages of each match day in our database.\n",
    "standard, superior, luxurious"
   ]
  },
  {
   "cell_type": "code",
   "execution_count": null,
   "metadata": {},
   "outputs": [],
   "source": [
    "url = \"XXX DATA CO NEMAME\"\n",
    "response = requests.get(url)\n",
    "df = pd.read_excel(BytesIO(response.content))\n",
    "df"
   ]
  },
  {
   "cell_type": "code",
   "execution_count": null,
   "metadata": {},
   "outputs": [],
   "source": [
    "# Create a new DataFrame that contains only the 'date', 'Standard Price Total', 'Superior Price Total', and 'Luxurious Price Total' columns\n",
    "accommodation_data_1 = accommodation_data[['date', 'Standard Price Total', 'Superior Price Total', 'Luxurious Price Total']]\n",
    "#print(accommodation_data_1)"
   ]
  },
  {
   "cell_type": "code",
   "execution_count": null,
   "metadata": {},
   "outputs": [],
   "source": [
    "# Group the data by 'date' and calculate the mean price for each accommodation type\n",
    "accommodation_data_1 = accommodation_data_1.groupby('date').mean()\n",
    "#print(accommodation_data_1)"
   ]
  },
  {
   "cell_type": "code",
   "execution_count": null,
   "metadata": {},
   "outputs": [],
   "source": [
    "# Consider each date as series and accomodation type as category\n",
    "# Plot a bar chart that has 3 columns for each date (accomodation type) and the height of the columns is the mean price\n",
    "accommodation_data_1.plot(kind='bar', figsize=(12, 6))\n",
    "plt.title('Mean Price of Accommodation Types Over Time')\n",
    "plt.ylabel('Mean Price')\n",
    "# Instead of dates on the x-axis, show the dates as strings\n",
    "plt.xticks(ticks=range(len(accommodation_data_1.index)), labels=[date.strftime('%Y-%m-%d') for date in accommodation_data_1.index], rotation=45)\n",
    "plt.show()"
   ]
  },
  {
   "cell_type": "code",
   "execution_count": null,
   "metadata": {},
   "outputs": [],
   "source": [
    "# Create a new DataFrame that contains only the 'event', 'Standard Price Total', 'Superior Price Total', and 'Luxurious Price Total' columns\n",
    "accommodation_data_2 = accommodation_data[['event', 'Standard Price Total', 'Superior Price Total', 'Luxurious Price Total']]\n",
    "#print(accommodation_data_2)"
   ]
  },
  {
   "cell_type": "code",
   "execution_count": null,
   "metadata": {},
   "outputs": [],
   "source": [
    "# Create an empty list, ake the 'event' column and separate it into two columns ('Home' and 'Away') separated by the ' vs. ' string\n",
    "event_list = []\n",
    "for event in accommodation_data_2['event']:\n",
    "    event_list.append(event.split(' vs. '))\n",
    "    # Appent the 'Standard Price Total', 'Superior Price Total', and 'Luxurious Price Total' columns to the list\n",
    "    event_list[-1].extend(accommodation_data_2.loc[accommodation_data_2['event'] == event, ['Standard Price Total', 'Superior Price Total', 'Luxurious Price Total']].values[0])\n",
    "#print(event_list)\n",
    "\n",
    "# Create a DataFrame from the list\n",
    "event_df = pd.DataFrame(event_list, columns=['Home', 'Away', 'Standard Price Total', 'Superior Price Total', 'Luxurious Price Total'])\n",
    "event_df = event_df.groupby(['Home', 'Away']).mean().unstack()\n",
    "#print(event_df)"
   ]
  },
  {
   "cell_type": "code",
   "execution_count": null,
   "metadata": {},
   "outputs": [],
   "source": [
    "# Create a heatmap that shows Home team on y-axis, Away team on x-axis, and the mean price Standard accommodation as the value\n",
    "# Plot the heatmap\n",
    "plt.figure(figsize=(12, 6))\n",
    "sns.heatmap(event_df['Standard Price Total'], annot=False, cmap='coolwarm')\n",
    "plt.title('Mean Price of Standard Accommodation for Home and Away Teams')\n",
    "plt.show()\n",
    "\n",
    "# Create a heatmap that shows Home team on y-axis, Away team on x-axis, and the mean price Superior accommodation as the value\n",
    "# Plot the heatmap\n",
    "plt.figure(figsize=(12, 6))\n",
    "sns.heatmap(event_df['Superior Price Total'], annot=False, cmap='coolwarm')\n",
    "plt.title('Mean Price of Superior Accommodation for Home and Away Teams')\n",
    "plt.show()\n",
    "\n",
    "# Create a heatmap that shows Home team on y-axis, Away team on x-axis, and the mean price Luxurious accommodation as the value\n",
    "# Plot the heatmap\n",
    "plt.figure(figsize=(12, 6))\n",
    "sns.heatmap(event_df['Luxurious Price Total'], annot=False, cmap='coolwarm')\n",
    "plt.title('Mean Price of Luxurious Accommodation for Home and Away Teams')\n",
    "plt.show()"
   ]
  }
 ],
 "metadata": {
  "kernelspec": {
   "display_name": "Python 3",
   "language": "python",
   "name": "python3"
  },
  "language_info": {
   "name": "python",
   "version": "3.12.2"
  }
 },
 "nbformat": 4,
 "nbformat_minor": 2
}
