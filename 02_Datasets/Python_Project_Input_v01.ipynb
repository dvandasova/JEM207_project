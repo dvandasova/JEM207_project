{
 "cells": [
  {
   "cell_type": "markdown",
   "metadata": {},
   "source": [
    "# Input"
   ]
  },
  {
   "cell_type": "markdown",
   "metadata": {},
   "source": [
    "## Environment"
   ]
  },
  {
   "cell_type": "code",
   "execution_count": 7,
   "metadata": {},
   "outputs": [],
   "source": [
    "# General libraries\n",
    "import pandas as pd"
   ]
  },
  {
   "cell_type": "markdown",
   "metadata": {},
   "source": [
    "## Functions Related to Input"
   ]
  },
  {
   "cell_type": "code",
   "execution_count": 13,
   "metadata": {},
   "outputs": [],
   "source": [
    "# User Input: Function to check code and return error message if correct input code not found\n",
    "def check_code(primary_code, dataframe):\n",
    "    # Extract first column of the dataframe\n",
    "    codes = dataframe.iloc[:, 0:1]\n",
    "    # Check if the primary code exists in the internal list of codes\n",
    "    if primary_code in codes.values:\n",
    "        pass\n",
    "    else:\n",
    "        print(f\"Error: Code {primary_code} is not a valid input. Please check the code and try again.\")\n",
    "    # Check if the primary code corresponds to a date that is in the future. Date is in second column of the data frame\n",
    "    if dataframe.loc[dataframe.iloc[:, 0] == primary_code].iloc[0, 1] < pd.Timestamp.now():\n",
    "        print(f\"Error: Code {primary_code} does not correspond to a date in the future. Please check the code and try again.\")"
   ]
  },
  {
   "cell_type": "code",
   "execution_count": 2,
   "metadata": {},
   "outputs": [],
   "source": [
    "# User Input: Function to read the input file and extract data\n",
    "def read_code(file_path, internal_list):\n",
    "    with open(file_path, 'r') as file:\n",
    "        file.readline()  # Skip the first line as it's not needed for the code\n",
    "        primary_code = file.readline().strip()  # Read the second line for primary code\n",
    "\n",
    "        # Check if the primary code exists in the internal list of codes\n",
    "        check_code(primary_code, internal_list)\n",
    "    \n",
    "    return primary_code"
   ]
  },
  {
   "cell_type": "code",
   "execution_count": 10,
   "metadata": {},
   "outputs": [],
   "source": [
    "# Internal Input: Function to read the internal file and extract data\n",
    "def read_excel_to_df(file_path):\n",
    "    try:\n",
    "        # Read the Excel file into a DataFrame\n",
    "        df = pd.read_excel(file_path, engine='openpyxl')\n",
    "        \n",
    "        # Check if the DataFrame has the correct number of columns and they are in the expected order\n",
    "        expected_columns = ['code', 'date', 'event', 'city', 'venue', 'accom.Code', 'flight.Code']\n",
    "        if len(df.columns) != len(expected_columns) or not all(df.columns == expected_columns):\n",
    "            # If columns do not match, raise an error\n",
    "            raise ValueError(\"Error: Unexpected input form. Please insert a file containing \" +\n",
    "                             \"\\\"code\\\", \\\"date\\\", \\\"event\\\", \\\"city\\\", \\\"venue\\\", \\\"accommodation code\\\" and \\\"flight code\\\" in this order.\")\n",
    "\n",
    "        # Convert the 'date' column to datetime dtype\n",
    "        df['date'] = pd.to_datetime(df['date'])\n",
    "\n",
    "        # Return the DataFrame\n",
    "        return df\n",
    "    \n",
    "    except ValueError as ve:\n",
    "        print(ve)\n",
    "        return None\n",
    "    except Exception as e:\n",
    "        print(f\"An error occurred: {e}\")\n",
    "        return None"
   ]
  },
  {
   "cell_type": "markdown",
   "metadata": {},
   "source": [
    "## Input\n",
    "It is necessary to replace the variable \"file_path\" with your own file path leading to the downloaded internal database and user input file."
   ]
  },
  {
   "cell_type": "code",
   "execution_count": 11,
   "metadata": {},
   "outputs": [],
   "source": [
    "# Internal Input: Read the internal file and extract data into a data frame for processing\n",
    "file_path = '/Users/danielavandasova/Library/CloudStorage/OneDrive-Personal/Documents/3_IES/8-Semestr/Data Analysis in Python/Python_Project/internal-data.xlsx'\n",
    "data_frame = read_excel_to_df(file_path)"
   ]
  },
  {
   "cell_type": "code",
   "execution_count": 15,
   "metadata": {},
   "outputs": [
    {
     "name": "stdout",
     "output_type": "stream",
     "text": [
      "Error: Code bundes000 does not correspond to a date in the future. Please check the code and try again.\n"
     ]
    }
   ],
   "source": [
    "# User input: Read the txt file and extract the primary code\n",
    "file_path = '/Users/danielavandasova/Library/CloudStorage/OneDrive-Personal/Documents/3_IES/8-Semestr/Data Analysis in Python/Python_Project/input.txt' #path to input file\n",
    "primary_code = read_code(file_path, data_frame)"
   ]
  }
 ],
 "metadata": {
  "kernelspec": {
   "display_name": "base",
   "language": "python",
   "name": "python3"
  },
  "language_info": {
   "codemirror_mode": {
    "name": "ipython",
    "version": 3
   },
   "file_extension": ".py",
   "mimetype": "text/x-python",
   "name": "python",
   "nbconvert_exporter": "python",
   "pygments_lexer": "ipython3",
   "version": "3.11.5"
  }
 },
 "nbformat": 4,
 "nbformat_minor": 2
}
